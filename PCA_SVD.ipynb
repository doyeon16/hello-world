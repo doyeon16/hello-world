{
 "cells": [
  {
   "cell_type": "code",
   "execution_count": 1,
   "metadata": {},
   "outputs": [],
   "source": [
    "import numpy as np\n",
    "\n",
    "def pca(X):\n",
    "    #data matrix X, assumes 0=centered\n",
    "    n,m=X.shape\n",
    "    assert np.allclose(X.mean(axis=0), np.zeros(m))\n",
    "    #compute covariance matrix\n",
    "    C=np.dot(X.T,X)/(n-1)\n",
    "    #Eigen decomposition\n",
    "    eigen_vals, eigen_vecs=np.linalg.eig(C)\n",
    "    #project X onto PC space\n",
    "    X_pca=np.dot(X,eigen_vecs)\n",
    "    return X_pca\n",
    "\n",
    "\n",
    "    "
   ]
  },
  {
   "cell_type": "code",
   "execution_count": 2,
   "metadata": {},
   "outputs": [],
   "source": [
    "def svd(X):\n",
    "    #data matrix X, X doesn't need to be 0-centered\n",
    "    n,m=X.shape\n",
    "    #compute full SVD\n",
    "    U,Sigma, Vh=np.linalg.svd(X,\n",
    "                             full_matrices=False,\n",
    "                             compute_uv=True)\n",
    "    #transform X with SVD components\n",
    "    X_svd=np.dot(U, np.diag(Sigma))\n",
    "    return X_svd"
   ]
  },
  {
   "cell_type": "code",
   "execution_count": null,
   "metadata": {},
   "outputs": [],
   "source": []
  }
 ],
 "metadata": {
  "kernelspec": {
   "display_name": "Python 3",
   "language": "python",
   "name": "python3"
  },
  "language_info": {
   "codemirror_mode": {
    "name": "ipython",
    "version": 3
   },
   "file_extension": ".py",
   "mimetype": "text/x-python",
   "name": "python",
   "nbconvert_exporter": "python",
   "pygments_lexer": "ipython3",
   "version": "3.6.9"
  }
 },
 "nbformat": 4,
 "nbformat_minor": 4
}
